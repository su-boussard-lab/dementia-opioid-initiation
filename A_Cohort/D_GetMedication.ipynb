{
 "cells": [
  {
   "cell_type": "code",
   "execution_count": null,
   "id": "2c108e15-e867-4066-ad33-cf80d5a65bd8",
   "metadata": {},
   "outputs": [],
   "source": [
    "# Load packages for data analysis\n",
    "import getpass, re, json, sys\n",
    "import pandas as pd\n",
    "import numpy as np\n",
    "import seaborn as sns\n",
    "import matplotlib.pyplot as plt\n",
    "from datetime import datetime, timedelta\n",
    "import pandas as pd\n",
    "import pandas_gbq as pgbq\n",
    "# Load packages for Big Query \n",
    "from google.cloud import bigquery\n",
    "import os\n",
    "from sqlalchemy import create_engine"
   ]
  },
  {
   "cell_type": "code",
   "execution_count": null,
   "id": "c02c06b0-9fa8-4753-b405-6addb2e68265",
   "metadata": {},
   "outputs": [],
   "source": [
    "# Define configurations for Big Query\n",
    "project_id = '' # Location of stride datalake\n",
    "client = bigquery.Client(project=project_id) # Set project to project_id\n",
    "os.environ['GOOGLE_APPLICATION_CREDENTIALS'] = ''\n",
    "os.environ['GCLOUD_PROJECT'] = \"\" # specify environment\n",
    "db = \"som-nero-phi-boussard\" # Define the database\n",
    "stanford_ds = \"\"\n",
    "yh_ds = \"\""
   ]
  },
  {
   "cell_type": "code",
   "execution_count": null,
   "id": "0538cc71-f918-4b0a-8e53-79318826d094",
   "metadata": {},
   "outputs": [],
   "source": [
    "def save_table(project_id, yh_ds, new_table_name, query):\n",
    "    table_id = f\"{project_id}.{yh_ds}.{new_table_name}\"\n",
    "    job_config = bigquery.QueryJobConfig(destination=table_id)\n",
    "    job_config.write_disposition = \"WRITE_TRUNCATE\"\n",
    "    # Start the query, passing in the extra configuration.\n",
    "    query_job = client.query(query, job_config=job_config)  # Make an API request.\n",
    "    query_job.result()  # Wait for the job to complete.\n",
    "    print(\"Query results loaded to the table {}\".format(table_id))  \n",
    "def load_pgbq(project_id, yh_ds, table_name):\n",
    "    sql_query = f\"SELECT * FROM {project_id}.{yh_ds}.{table_name}\"\n",
    "    return_df = pgbq.read_gbq(sql_query, dialect=\"standard\")\n",
    "    print (f\"{project_id}.{yh_ds}.{table_name}\", \"is loaded\") \n",
    "    return return_df\n",
    "def upload_pgbq(project_id, yh_ds, table_name, df):\n",
    "    table_id = f\"{yh_ds}.{table_name}\"\n",
    "    pgbq.to_gbq(df, table_id, project_id=project_id)\n",
    "    print (\"dataframe\", df, \"is uploaded as\", f\"{project_id}.{yh_ds}.{table_name}\") \n",
    "def remove_table(project_id, yh_ds, table_name):\n",
    "    client = bigquery.Client()\n",
    "    table_id = f\"{project_id}.{yh_ds}.{table_name}\"\n",
    "    client.delete_table(table_id, not_found_ok=True)  # Make an API request.\n",
    "    print(\"Deleted table '{}'.\".format(table_id))"
   ]
  },
  {
   "cell_type": "code",
   "execution_count": null,
   "id": "64e6ee0c-3290-4a80-b1ab-1aa951c3a814",
   "metadata": {},
   "outputs": [],
   "source": [
    "# #get medications medication id \n",
    "# stanford_ds = \"stanfordmed_datalake\"\n",
    "# yh_ds = \"YH_dementia\"\n",
    "# shc_mapping = \"shc_medication_rxnorm_map\"\n",
    "# yh_med_map = \"medication_rxnorm\"\n",
    "# sql_query = f\"\"\"\n",
    "# SELECT \n",
    "#     map.med_id, \n",
    "#     map.medication_name,\n",
    "#     map.str,\n",
    "#     map.rxcui,\n",
    "#     med_rxnorm.ingredient, \n",
    "#     med_rxnorm.therapeutic_category,\n",
    "#     med_rxnorm.chemical_type,\n",
    "#     med_rxnorm.type\n",
    "# FROM {db}.{stanford_ds}.{shc_mapping} map \n",
    "# JOIN {db}.{yh_ds}.{yh_med_map} med_rxnorm ON map.rxcui = med_rxnorm.rxnorm\n",
    "# \"\"\"\n",
    "\n",
    "# table_name = \"medication_med_id\"\n",
    "# save_table(project_id, yh_ds, table_name, sql_query)"
   ]
  },
  {
   "cell_type": "code",
   "execution_count": null,
   "id": "546596a1-b851-4eca-8c6f-4445c9c99c65",
   "metadata": {},
   "outputs": [],
   "source": [
    "#load relevant medication records of dementia patients \n",
    "stanford_ds = \"stanfordmed_datalake\"\n",
    "yh_ds = \"YH_dementia\"\n",
    "med_med_id = \"medication_med_id\" \n",
    "dem_patients = \"dementia_pat_exposure_group\"\n",
    "med_records = \"shc_medication\"\n",
    "sql_query = f\"\"\"\n",
    "SELECT \n",
    "    dm_pat.*,\n",
    "    DATE_DIFF(DATE(med_med.ordering_date), DATE(dm_pat.diagnosis_date), DAY) AS med_from_diagnosis,\n",
    "    med_med.order_deid,\n",
    "    med_med.pat_enc_csn_deid,\n",
    "    med_med.med_id,\n",
    "    med_med.ingredient, \n",
    "    med_med.therapeutic_category,\n",
    "    med_med.chemical_type,\n",
    "    med_med.type AS med_category,\n",
    "    med_med.ordering_date, \n",
    "    med_med.med_route, \n",
    "    med_med.ordering_mode, \n",
    "    med_med.order_class,\n",
    "    med_med.is_administered\n",
    "FROM {db}.{yh_ds}.{dem_patients} dm_pat \n",
    "LEFT JOIN (\n",
    "    SELECT \n",
    "        med.pat_deid,\n",
    "        med_id.med_id, \n",
    "        med_id.ingredient,\n",
    "        med_id.therapeutic_category,\n",
    "        med_id.chemical_type, \n",
    "        med_id.type,\n",
    "        med.order_deid, \n",
    "        med.pat_enc_csn_deid, \n",
    "        med.ordering_date, \n",
    "        med.med_route, \n",
    "        med.ordering_mode, \n",
    "        med.order_class, \n",
    "        med.is_administered\n",
    "    FROM {db}.{yh_ds}.{med_med_id} med_id\n",
    "    INNER JOIN {db}.{stanford_ds}.{med_records} med ON med_id.med_id = med.medication_id\n",
    ") med_med \n",
    "ON dm_pat.pat_deid = med_med.pat_deid\n",
    "WHERE med_med.ordering_date >= DATE_SUB(DATE(dm_pat.diagnosis_date), INTERVAL 1 YEAR)\n",
    "\"\"\"\n",
    "\n",
    "\n",
    "new_table_name = \"dementia_med_med_07312024\"\n",
    "save_table(project_id, yh_ds, new_table_name, sql_query )"
   ]
  },
  {
   "cell_type": "code",
   "execution_count": null,
   "id": "c93c7053-03fb-477f-8592-4ab6639db3a4",
   "metadata": {},
   "outputs": [],
   "source": [
    "stanford_ds = \"stanfordmed_datalake\"\n",
    "yh_ds = \"YH_dementia\"\n",
    "sql_table = \"dementia_med_med_07312024\"\n",
    "sql_query = f\"\"\"\n",
    "SELECT *,\n",
    "    CASE \n",
    "        WHEN med_from_diagnosis >= -365 AND med_from_diagnosis < 0 THEN 1 \n",
    "        ELSE 0 \n",
    "    END AS exposure_within_1_year, \n",
    "    CASE \n",
    "        WHEN med_from_diagnosis >= 0 THEN 1 \n",
    "        ELSE 0 \n",
    "    END AS exposure_after,      \n",
    "    CASE \n",
    "        WHEN med_from_diagnosis >= -365 AND DATETIME(ordering_date) < DATETIME(post_onset_exposure_start_time) THEN 1 \n",
    "        ELSE 0 \n",
    "    END AS exposure_within_1_year_before_first_op,    \n",
    "    CASE \n",
    "        WHEN DATETIME(ordering_date) >= DATETIME(post_onset_exposure_start_time) THEN 1 \n",
    "        ELSE 0 \n",
    "    END AS exposure_after_first_op \n",
    "FROM {db}.{yh_ds}.{sql_table};\n",
    "\"\"\"\n",
    "med_med = pgbq.read_gbq(sql_query, dialect=\"standard\")"
   ]
  },
  {
   "cell_type": "code",
   "execution_count": null,
   "id": "9fb309c3-c31b-4f13-a6d5-054314693d4b",
   "metadata": {},
   "outputs": [],
   "source": [
    "sql_table = \"dementia_pat_coverage_07312024\"\n",
    "sql_query = f\"SELECT * FROM {db}.{yh_ds}.{sql_table}\"\n",
    "dementia_cohort = pgbq.read_gbq(sql_query, dialect=\"standard\")"
   ]
  },
  {
   "cell_type": "code",
   "execution_count": null,
   "id": "7104f82b-dc22-4c93-b5f6-3808b3587a10",
   "metadata": {},
   "outputs": [],
   "source": [
    "# Columns used to identify each row uniquely\n",
    "id_columns = ['pat_deid', 'ingredient', 'therapeutic_category']\n",
    "\n",
    "# Columns to keep without any aggregation\n",
    "keep_columns = ['sex', 'ethnic_group', 'death_date', 'deceased', 'race',\n",
    "                'diagnosis_date', 'death_from_diagnosis', 'AD', 'FTD', 'VD', 'LBD', 'other_D']\n",
    "\n",
    "# Columns to aggregate using the maximum value\n",
    "max_columns = ['exposure_within_1_year', 'exposure_after', \n",
    "               'exposure_within_1_year_before_first_op', 'exposure_after_first_op']\n",
    "\n",
    "# Create an aggregation dictionary where each column in max_columns is aggregated with 'max'\n",
    "agg_dict = {}\n",
    "for x in max_columns:\n",
    "    agg_dict[x] = 'max'\n",
    "\n",
    "# Display the resulting aggregation dictionary\n",
    "agg_dict"
   ]
  },
  {
   "cell_type": "code",
   "execution_count": null,
   "id": "f3e80477-ac2f-4b19-a859-65b51502a4c5",
   "metadata": {},
   "outputs": [],
   "source": [
    "# Group the 'med_med' DataFrame by 'pat_deid', 'ingredient', and 'therapeutic_category'\n",
    "# Do not use the grouped columns as the index (as_index=False)\n",
    "# Apply the aggregation rules defined in 'agg_dict' to the grouped data\n",
    "med_med_agg = med_med.groupby(['pat_deid', 'ingredient', 'therapeutic_category'], as_index=False).agg(agg_dict)"
   ]
  },
  {
   "cell_type": "code",
   "execution_count": null,
   "id": "547edb11-6697-4734-8ebc-782cc33f661b",
   "metadata": {},
   "outputs": [],
   "source": [
    "# Create a new DataFrame 'keep_df' by selecting the 'pat_deid' column \n",
    "# along with the columns specified in 'keep_columns' from 'dementia_cohort'.\n",
    "# Remove duplicate rows to ensure unique entries.\n",
    "keep_df = dementia_cohort[['pat_deid'] + keep_columns].drop_duplicates()"
   ]
  },
  {
   "cell_type": "code",
   "execution_count": null,
   "id": "0fb0f348-faac-4bdf-a92d-b1e4265fe161",
   "metadata": {},
   "outputs": [],
   "source": [
    "# Create a pivot table from 'med_med_agg':\n",
    "# - Rows are indexed by 'pat_deid'\n",
    "# - Columns are 'therapeutic_category', combined with the specified values\n",
    "# - Values are aggregated using the 'max' function\n",
    "pivot_table_df = med_med_agg.pivot_table(\n",
    "    index='pat_deid', \n",
    "    columns='therapeutic_category', \n",
    "    values=['exposure_within_1_year', 'exposure_after', 'exposure_within_1_year_before_first_op', 'exposure_after_first_op'], \n",
    "    aggfunc='max'\n",
    ")\n",
    "\n",
    "# Replace any missing values in the pivot table with 0\n",
    "pivot_table_df = pivot_table_df.fillna(0)\n",
    "\n",
    "# Flatten the MultiIndex column names by joining with '_'\n",
    "pivot_table_df.columns = ['_'.join(col).strip() for col in pivot_table_df.columns.values]\n",
    "\n",
    "# Reset the index to turn 'pat_deid' back into a regular column\n",
    "pivot_table_df.reset_index(inplace=True)\n",
    "\n"
   ]
  },
  {
   "cell_type": "code",
   "execution_count": null,
   "id": "0dfde555-bc99-47f6-930b-0569569595dc",
   "metadata": {},
   "outputs": [],
   "source": [
    "pivot_table_df.rename(columns=lambda x: re.sub(r'[^a-zA-Z0-9_]', '',  # Remove special characters\n",
    "                                re.sub('_+', '_',   # Convert multiple underscores to a single one\n",
    "                                re.sub(r'(?<!^)(?=[A-Z])', '_',  # Handle camelCase or Title Case\n",
    "                                x.replace('-', '_')  # Replace dashes with underscores\n",
    "                                .replace(' ', '_'))  # Replace spaces with underscores\n",
    "                                )).strip().lower()   # Trim spaces and convert to lowercase\n",
    "                                if not x[0].isdigit() else 'col_' + x, inplace=True)"
   ]
  },
  {
   "cell_type": "code",
   "execution_count": null,
   "id": "d1cde938-a421-4373-9d79-f84359c25b78",
   "metadata": {},
   "outputs": [],
   "source": [
    "merged_df = keep_df.merge(pivot_table_df, 'left', on = 'pat_deid')"
   ]
  },
  {
   "cell_type": "code",
   "execution_count": null,
   "id": "ed1f8612-135f-4313-b5bf-090d6fc4e313",
   "metadata": {},
   "outputs": [],
   "source": [
    "remove_table(project_id, yh_ds, \"dementia_medication_categories_07312024\")"
   ]
  },
  {
   "cell_type": "code",
   "execution_count": null,
   "id": "0b726b4b-695b-4c08-8a22-3ed664f5bee4",
   "metadata": {},
   "outputs": [],
   "source": [
    "upload_pgbq(project_id, yh_ds, \"dementia_medication_categories_07312024\", merged_df)"
   ]
  },
  {
   "cell_type": "code",
   "execution_count": null,
   "id": "48608471-08e7-4971-93f5-c60fa03b6ecd",
   "metadata": {},
   "outputs": [],
   "source": [
    "medication_table_name = 'dementia_medication_categories_07312024'\n",
    "medication_table_id = f\"{db}.{yh_ds}.{medication_table_name}\"\n",
    "medication_table = client.get_table(medication_table_id)\n",
    "\n",
    "comorbidity_table_name = 'dementia_comorbidity_categories_aggregated_07312024'\n",
    "comorbidity_table_id = f\"{db}.{yh_ds}.{comorbidity_table_name}\"\n",
    "comorbidity_table = client.get_table(comorbidity_table_id)\n",
    "\n",
    "comorbidity_before_exposure_table_name = 'dementia_comorbidity_before_op_categories_aggregated_07312024'\n",
    "comorbidity_before_exposure_table_id = f\"{db}.{yh_ds}.{comorbidity_before_exposure_table_name}\"\n",
    "comorbidity_before_exposure_table = client.get_table(comorbidity_before_exposure_table_id)\n",
    "\n",
    "# Get the list of column names\n",
    "comorbidity_column_names = [schema_field.name for schema_field in comorbidity_table.schema]\n",
    "comorbidity_before_exposure_table_column_names = [schema_field.name for schema_field in comorbidity_before_exposure_table.schema]\n",
    "medication_column_names = [schema_field.name for schema_field in medication_table.schema]\n",
    "\n",
    "# Print the column names\n",
    "print(comorbidity_column_names)"
   ]
  },
  {
   "cell_type": "code",
   "execution_count": null,
   "id": "d9e5e52a-4219-4c8f-9723-97932913846b",
   "metadata": {},
   "outputs": [],
   "source": [
    "print(comorbidity_before_exposure_table_column_names)"
   ]
  },
  {
   "cell_type": "code",
   "execution_count": null,
   "id": "5b99dbbb-1bbb-4c5f-8268-d10c73e607a6",
   "metadata": {},
   "outputs": [],
   "source": [
    "print(medication_column_names)"
   ]
  },
  {
   "cell_type": "code",
   "execution_count": null,
   "id": "ab05149b-9a85-40a5-b055-c462d93b2bd9",
   "metadata": {},
   "outputs": [],
   "source": [
    "comorbidity_columns_to_add = ['myocardial_infarction', 'congestive_heart_failure', 'peripheral_vascular_disease', 'cerebrovascular_disease_', 'chronic_pulmonary_disease', 'rheumatologic_disease', 'peptic_ulcer', 'hemiplegia_paraplegia', 'diabetes_without_complications', 'diabetes_with_chronic_complications_', 'mild_liver_diseases', 'moderate_severe_liver_disease', 'renal_disease', 'any_malignancy__tumor__leukemia__lymphoma_', 'metastatic_solid_tumor', 'HIV_AIDS', 'cognitive_decline', 'hypertension', 'hyperlipidemia', 'excessive_alcohol', 'atherosclerosis', 'hypercholesterolemia', 'atrial_fibrillation', 'traumatic_brain_injury', 'hearing_loss', 'sleep_apnea', 'prediabetes', 'delirium', 'depression', 'schizophrenia_non_mood_psychotic_disorder', 'mood_disorder', 'anxiety_and_non_psychotic_mental_disorder', 'behavioral_syndromes_associated_with_physiological_disturbances_and_physical_factors', 'disorders_of_adult_personality_and_behavior', 'Intellecutual_disability', 'developmental_disorder', 'behavioral_and_emotional_isorder_with_onset_in_early_ages']\n",
    "medication_columns_to_add = [i for i in medication_column_names if i.startswith('exposure')]\n",
    "comorbidity_before_exposure_columns_to_add = ['before_exposure_myocardial_infarction', 'before_exposure_congestive_heart_failure', 'before_exposure_peripheral_vascular_disease', 'before_exposure_cerebrovascular_disease_', 'before_exposure_chronic_pulmonary_disease', 'before_exposure_rheumatologic_disease', 'before_exposure_peptic_ulcer', 'before_exposure_hemiplegia_paraplegia', 'before_exposure_diabetes_without_complications', 'before_exposure_diabetes_with_chronic_complications_', 'before_exposure_mild_liver_diseases', 'before_exposure_moderate_severe_liver_disease', 'before_exposure_renal_disease', 'before_exposure_any_malignancy__tumor__leukemia__lymphoma_', 'before_exposure_metastatic_solid_tumor', 'before_exposure_HIV_AIDS', 'before_exposure_cognitive_decline', 'before_exposure_hypertension', 'before_exposure_hyperlipidemia', 'before_exposure_excessive_alcohol', 'before_exposure_atherosclerosis', 'before_exposure_hypercholesterolemia', 'before_exposure_atrial_fibrillation', 'before_exposure_traumatic_brain_injury', 'before_exposure_hearing_loss', 'before_exposure_sleep_apnea', 'before_exposure_prediabetes', 'before_exposure_delirium', 'before_exposure_depression', 'before_exposure_schizophrenia_non_mood_psychotic_disorder', 'before_exposure_mood_disorder', 'before_exposure_anxiety_and_non_psychotic_mental_disorder', 'before_exposure_behavioral_syndromes_associated_with_physiological_disturbances_and_physical_factors', 'before_exposure_disorders_of_adult_personality_and_behavior', 'before_exposure_Intellecutual_disability', 'before_exposure_developmental_disorder', 'before_exposure_behavioral_and_emotional_isorder_with_onset_in_early_ages']"
   ]
  },
  {
   "cell_type": "code",
   "execution_count": null,
   "id": "0e4815f8-9976-428d-92f8-7a78d2b19c86",
   "metadata": {},
   "outputs": [],
   "source": [
    "pat_df = 'dementia_pat_coverage_07312024'\n",
    "cbd_df = comorbidity_table_name\n",
    "cbd_b4_op_df = comorbidity_before_exposure_table_name\n",
    "med_df = medication_table_name\n",
    "sql_query = f\"\"\"\n",
    "SELECT\n",
    "    pat.*,\"\"\"\n",
    "for c_index in range(len(comorbidity_columns_to_add)):\n",
    "    c = comorbidity_columns_to_add[c_index]\n",
    "    sql_query += f\"\"\"\\n    COALESCE(cbd.{c},0) AS {c},\"\"\"\n",
    "for c_index in range(len(comorbidity_before_exposure_columns_to_add)):\n",
    "    c_b4_op = comorbidity_before_exposure_columns_to_add[c_index]\n",
    "    sql_query += f\"\"\"\\n    COALESCE(cbd_b4_op.{c_b4_op},0) AS {c_b4_op},\"\"\"\n",
    "for m_index in range(len(medication_columns_to_add)):\n",
    "    m = medication_columns_to_add[m_index]\n",
    "    if m_index < len(medication_columns_to_add)-1:\n",
    "        sql_query += f\"\"\"\\n    COALESCE(med.{m},0) AS {m},\"\"\"\n",
    "    elif m_index == len(medication_columns_to_add)-1:\n",
    "        sql_query += f\"\"\"\\n    COALESCE(med.{m},0) AS {m}\"\"\"\n",
    "sql_query += f\"\"\"\n",
    "FROM \n",
    "  `{project_id}.{yh_ds}.{pat_df}` AS pat\n",
    "LEFT JOIN \n",
    "  `{project_id}.{yh_ds}.{cbd_df}` AS cbd\n",
    "ON \n",
    "  pat.pat_deid = cbd.pat_deid\n",
    "LEFT JOIN \n",
    "  `{project_id}.{yh_ds}.{cbd_b4_op_df}` AS cbd_b4_op\n",
    "ON \n",
    "  pat.pat_deid = cbd_b4_op.pat_deid\n",
    "LEFT JOIN \n",
    "  `{project_id}.{yh_ds}.{med_df}` AS med\n",
    "ON \n",
    "  pat.pat_deid = med.pat_deid\"\"\"\n",
    "print (sql_query)"
   ]
  },
  {
   "cell_type": "code",
   "execution_count": null,
   "id": "d82c4540-e418-4471-a54e-dcbe5103fbab",
   "metadata": {},
   "outputs": [],
   "source": [
    "save_table(project_id, yh_ds, \"dementia_pat_complete_cohort_07312024\", sql_query)"
   ]
  },
  {
   "cell_type": "code",
   "execution_count": null,
   "id": "86c26b61-d9ec-42ce-9e0d-9e409a8b5dd7",
   "metadata": {},
   "outputs": [],
   "source": []
  }
 ],
 "metadata": {
  "kernelspec": {
   "display_name": "Python 3 (ipykernel)",
   "language": "python",
   "name": "python3"
  },
  "language_info": {
   "codemirror_mode": {
    "name": "ipython",
    "version": 3
   },
   "file_extension": ".py",
   "mimetype": "text/x-python",
   "name": "python",
   "nbconvert_exporter": "python",
   "pygments_lexer": "ipython3",
   "version": "3.12.2"
  }
 },
 "nbformat": 4,
 "nbformat_minor": 5
}
