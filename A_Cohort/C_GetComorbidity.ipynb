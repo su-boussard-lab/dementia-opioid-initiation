{
 "cells": [
  {
   "cell_type": "code",
   "execution_count": null,
   "id": "0253d95b-1943-4dbb-8096-449b4efc624c",
   "metadata": {},
   "outputs": [],
   "source": [
    "# Load packages for data analysis\n",
    "import getpass, re, json, sys\n",
    "import pandas as pd\n",
    "import numpy as np\n",
    "import seaborn as sns\n",
    "import matplotlib.pyplot as plt\n",
    "from datetime import datetime, timedelta\n",
    "import pandas as pd\n",
    "import pandas_gbq as pgbq\n",
    "# Load packages for Big Query \n",
    "from google.cloud import bigquery\n",
    "import os\n",
    "from sqlalchemy import create_engine"
   ]
  },
  {
   "cell_type": "code",
   "execution_count": null,
   "id": "39be8c87-9b8d-4f33-9750-ba947643230a",
   "metadata": {},
   "outputs": [],
   "source": [
    "# Define configurations for Big Query\n",
    "project_id = '' # Location of stride datalake\n",
    "client = bigquery.Client(project=project_id) # Set project to project_id\n",
    "os.environ['GOOGLE_APPLICATION_CREDENTIALS'] = ''\n",
    "os.environ['GCLOUD_PROJECT'] = \"\" # specify environment\n",
    "db = \"\" # Define the database\n",
    "stanford_ds = \"\"\n",
    "yh_ds = \"\""
   ]
  },
  {
   "cell_type": "code",
   "execution_count": null,
   "id": "6d6ee032-9043-48bf-916d-afba15bfba88",
   "metadata": {},
   "outputs": [],
   "source": [
    "def save_table(project_id, yh_ds, new_table_name, query):\n",
    "    table_id = f\"{project_id}.{yh_ds}.{new_table_name}\"\n",
    "    job_config = bigquery.QueryJobConfig(destination=table_id)\n",
    "    job_config.write_disposition = \"WRITE_TRUNCATE\"\n",
    "    # Start the query, passing in the extra configuration.\n",
    "    query_job = client.query(query, job_config=job_config)  # Make an API request.\n",
    "    query_job.result()  # Wait for the job to complete.\n",
    "    print(\"Query results loaded to the table {}\".format(table_id))  \n",
    "def load_pgbq(project_id, yh_ds, table_name):\n",
    "    sql_query = f\"SELECT * FROM {project_id}.{yh_ds}.{table_name}\"\n",
    "    return_df = pgbq.read_gbq(sql_query, dialect=\"standard\")\n",
    "    print (f\"{project_id}.{yh_ds}.{table_name}\", \"is loaded\") \n",
    "    return return_df\n",
    "def upload_pgbq(project_id, yh_ds, table_name, df):\n",
    "    table_id = f\"{yh_ds}.{table_name}\"\n",
    "    pgbq.to_gbq(df, table_id, project_id=project_id)\n",
    "    print (\"dataframe\", df, \"is uploaded as\", f\"{project_id}.{yh_ds}.{table_name}\") \n",
    "def remove_table(project_id, yh_ds, table_name):\n",
    "    client = bigquery.Client()\n",
    "    table_id = f\"{project_id}.{yh_ds}.{table_name}\"\n",
    "    client.delete_table(table_id, not_found_ok=True)  # Make an API request.\n",
    "    print(\"Deleted table '{}'.\".format(table_id))"
   ]
  },
  {
   "cell_type": "code",
   "execution_count": null,
   "id": "d2d8f2fe-2058-468a-86dc-b645337941f7",
   "metadata": {},
   "outputs": [],
   "source": [
    "comorbidity = pd.read_excel(\"/Users/yeonmihwang/Documents/Research/Projects/dementia/opioid/resource/codes_ComorbidityMedication.xlsx\", \n",
    "                        sheet_name = 'comorbidity')\n",
    "comorbidity.head(10)"
   ]
  },
  {
   "cell_type": "code",
   "execution_count": null,
   "id": "0f18d205-4cb4-472e-ad91-e0edab4c2f44",
   "metadata": {},
   "outputs": [],
   "source": [
    "comorbidity['diagnosis'].tolist()"
   ]
  },
  {
   "cell_type": "code",
   "execution_count": null,
   "id": "49419b3d-88f2-424b-bb83-b7587efd9882",
   "metadata": {},
   "outputs": [],
   "source": [
    "total_icd10s = []\n",
    "for c in comorbidity['diagnosis'].tolist():\n",
    "    total_icd10s += comorbidity[comorbidity['diagnosis']==c]['ICD-10'].iloc[0].replace(\" \", \"\").split(\",\")"
   ]
  },
  {
   "cell_type": "code",
   "execution_count": null,
   "id": "9334e34e-9a0e-4d34-81c2-eb5c024f7a92",
   "metadata": {},
   "outputs": [],
   "source": [
    "def save_table(project_id, yh_ds, new_table_name, query):\n",
    "    table_id = f\"{project_id}.{yh_ds}.{new_table_name}\"\n",
    "    job_config = bigquery.QueryJobConfig(destination=table_id)\n",
    "    job_config.write_disposition = \"WRITE_TRUNCATE\"\n",
    "    # Start the query, passing in the extra configuration.\n",
    "    query_job = client.query(query, job_config=job_config)  # Make an API request.\n",
    "    query_job.result()  # Wait for the job to complete.\n",
    "    print(\"Query results loaded to the table {}\".format(table_id))  \n",
    "def load_pgbq(project_id, yh_ds, table_name):\n",
    "    sql_query = f\"SELECT * FROM {project_id}.{yh_ds}.{table_name}\"\n",
    "    return_df = pgbq.read_gbq(sql_query, dialect=\"standard\")\n",
    "    print (f\"{project_id}.{yh_ds}.{table_name}\", \"is loaded\") \n",
    "    return return_df\n",
    "def upload_pgbq(project_id, yh_ds, table_name, df):\n",
    "    table_id = f\"{yh_ds}.{table_name}\"\n",
    "    pgbq.to_gbq(df, table_id, project_id=project_id)\n",
    "    print (\"dataframe\", df, \"is uploaded as\", f\"{project_id}.{yh_ds}.{table_name}\") \n",
    "def remove_table(project_id, yh_ds, table_name):\n",
    "    client = bigquery.Client()\n",
    "    table_id = f\"{project_id}.{yh_ds}.{table_name}\"\n",
    "    client.delete_table(table_id, not_found_ok=True)  # Make an API request.\n",
    "    print(\"Deleted table '{}'.\".format(table_id))"
   ]
  },
  {
   "cell_type": "code",
   "execution_count": null,
   "id": "20db3fd4-418b-47ee-b610-c800ac4e2a45",
   "metadata": {},
   "outputs": [],
   "source": [
    "def generate_regex_icd10(ancestor): \n",
    "    if '.' in ancestor: \n",
    "        split = ancestor.split(\".\")\n",
    "        regex_string = f\"{split[0]}\\\\.{split[1]}(\\\\d+)?\"\n",
    "    else:\n",
    "        regex_string = f\"{ancestor}(\\\\.\\\\d+)?\"\n",
    "    return regex_string\n",
    "\n",
    "def generate_sql_regex_icd10s(icd10_list):\n",
    "    patterns = [generate_regex_icd10(icd10) for icd10 in icd10_list]\n",
    "    separator = \"|\"\n",
    "    pattern_string = separator.join(patterns)\n",
    "    regex_string = f\"^({pattern_string})$\" \n",
    "    return regex_string \n",
    "icd10_string = generate_sql_regex_icd10s(total_icd10s)"
   ]
  },
  {
   "cell_type": "code",
   "execution_count": null,
   "id": "5bfeaeaf-732c-40c3-b012-2cde8a35994f",
   "metadata": {},
   "outputs": [],
   "source": [
    "string  = f\"REGEXP_CONTAINS(diag.icd10, r'({icd10_string})')\"\n",
    "string"
   ]
  },
  {
   "cell_type": "code",
   "execution_count": null,
   "id": "dbd39162-fa0d-4a28-9c39-35874185b765",
   "metadata": {},
   "outputs": [],
   "source": [
    "# dementia diagnosis codes \n",
    "sql_query = f\"\"\"\n",
    "    SELECT \n",
    "        pat.pat_deid,\n",
    "        DATE_DIFF(DATE(diag.start_date), DATE(pat.birth_date), YEAR) AS age_at_comorbid_diagnosis,\n",
    "        DATE_DIFF(DATE(pat.diagnosis_date), DATE(pat.birth_date), YEAR) AS age_at_dementia,\n",
    "        pat.sex, \n",
    "        pat.ethnic_group, \n",
    "        pat.death_date, \n",
    "        pat.deceased, \n",
    "        pat.race, \n",
    "        pat.diagnosis_date AS dementia_start_date,\n",
    "        diag.dx_id, \n",
    "        diag.dx_name, \n",
    "        diag.icd10, \n",
    "        diag.start_date AS diagnosis_start_date, \n",
    "        DATE_DIFF(DATE(pat.diagnosis_date), DATE(diag.start_date), DAY) AS days_before_dementia\n",
    "    FROM `som-nero-phi-boussard.stanfordmed_datalake.shc_diagnosis` AS diag\n",
    "    JOIN `som-nero-phi-boussard.YH_dementia.dementia_pat_coverage_07312024` AS pat ON pat.pat_deid = diag.pat_deid\n",
    "    WHERE (REGEXP_CONTAINS(diag.icd10, r'{icd10_string}')) AND (DATE(diag.start_date) < DATE(pat.diagnosis_date)) AND (DATE(diag.start_date) >= DATE_SUB(DATE(pat.diagnosis_date), INTERVAL 2 YEAR))\n",
    "\"\"\"\n",
    "#save raw dementia patient table \n",
    "table_name = \"dementia_pat_comorbidity_07312024\"\n",
    "save_table(project_id, yh_ds, table_name, sql_query)"
   ]
  },
  {
   "cell_type": "code",
   "execution_count": null,
   "id": "c425fb45-b820-4b9c-abc6-803cd20b5213",
   "metadata": {},
   "outputs": [],
   "source": [
    "# dementia diagnosis codes \n",
    "sql_query = f\"\"\"\n",
    "    SELECT \n",
    "        pat.pat_deid,\n",
    "        DATE_DIFF(DATE(diag.start_date), DATE(pat.birth_date), YEAR) AS age_at_comorbid_diagnosis,\n",
    "        DATE_DIFF(DATE(pat.diagnosis_date), DATE(pat.birth_date), YEAR) AS age_at_dementia,\n",
    "        pat.sex, \n",
    "        pat.ethnic_group, \n",
    "        pat.death_date, \n",
    "        pat.deceased, \n",
    "        pat.race, \n",
    "        pat.diagnosis_date AS dementia_start_date,\n",
    "        diag.dx_id, \n",
    "        diag.dx_name, \n",
    "        diag.icd10, \n",
    "        diag.start_date AS diagnosis_start_date, \n",
    "        DATE_DIFF(DATE(pat.diagnosis_date), DATE(diag.start_date), DAY) AS days_before_dementia\n",
    "    FROM `som-nero-phi-boussard.stanfordmed_datalake.shc_diagnosis` AS diag\n",
    "    JOIN `som-nero-phi-boussard.YH_dementia.dementia_pat_exposure_group` AS pat ON pat.pat_deid = diag.pat_deid\n",
    "    WHERE (REGEXP_CONTAINS(diag.icd10, r'{icd10_string}')) AND (DATE(diag.start_date) < DATE(pat.post_onset_exposure_start_time)) AND (DATE(diag.start_date) >= DATE_SUB(DATE(pat.diagnosis_date), INTERVAL 2 YEAR))\n",
    "\"\"\"\n",
    "#save raw dementia patient table \n",
    "table_name = \"dementia_pat_comorbidity_before_op_07312024\"\n",
    "save_table(project_id, yh_ds, table_name, sql_query)"
   ]
  },
  {
   "cell_type": "code",
   "execution_count": null,
   "id": "cfac547e-31dc-41d4-8ab0-8686a399cd09",
   "metadata": {},
   "outputs": [],
   "source": [
    "def get_string (comorbidity, comorbidity_df):\n",
    "    icd_10s = comorbidity_df[comorbidity_df['diagnosis']==comorbidity]['ICD-10'].iloc[0].replace(\" \", \"\").split(\",\")\n",
    "    comorbidity = comorbidity.replace(\" \",\"_\")\n",
    "    comorbidity = comorbidity.replace(\"/\",\"_\")\n",
    "    comorbidity = comorbidity.replace(\"(\",\"_\")\n",
    "    comorbidity = comorbidity.replace(\")\",\"_\")\n",
    "    comorbidity = comorbidity.replace(\",\",\"_\")\n",
    "    comorbidity = comorbidity.replace(\"-\",\"_\")\n",
    "    diagnosis_string = generate_sql_regex_icd10s(icd_10s)\n",
    "    string = f\"CASE WHEN REGEXP_CONTAINS(diag.icd10, r'{diagnosis_string}') THEN 1 ELSE 0 END AS {comorbidity}\"\n",
    "    return string\n",
    "comorbidity_df = pd.read_excel(\"/Users/yeonmihwang/Documents/Research/Projects/dementia/opioid/resource/codes_ComorbidityMedication.xlsx\", sheet_name = 'comorbidity')"
   ]
  },
  {
   "cell_type": "code",
   "execution_count": null,
   "id": "90e934e5-bdb7-4f5e-8467-03620c3addb6",
   "metadata": {},
   "outputs": [],
   "source": [
    "c_list = comorbidity['diagnosis'].tolist()"
   ]
  },
  {
   "cell_type": "code",
   "execution_count": null,
   "id": "92c5618d-fcf1-4292-9e45-f6092d801c08",
   "metadata": {},
   "outputs": [],
   "source": [
    "stanford_ds = \"stanfordmed_datalake\"\n",
    "yh_ds = \"YH_dementia\"\n",
    "sql_table = \"dementia_pat_comorbidity_07312024\"\n",
    "sql_query = f\"\"\" \n",
    "SELECT *,\n",
    "\"\"\"\n",
    "for c_index in range(len(c_list)):\n",
    "    c = c_list[c_index]\n",
    "    sql_query += get_string(c, comorbidity_df)\n",
    "    if c_index < len(c_list)-1:\n",
    "        sql_query += \"\"\",\\n\"\"\"\n",
    "    if c_index == len(c_list)-1:\n",
    "        sql_query += f\"\"\"\\nFROM {db}.{yh_ds}.{sql_table} AS diag;\"\"\"\n",
    "print (sql_query)"
   ]
  },
  {
   "cell_type": "code",
   "execution_count": null,
   "id": "43801ec1-d5ea-480c-9acd-34663fc14520",
   "metadata": {},
   "outputs": [],
   "source": [
    "table_name = \"dementia_comorbidity_categories_07312024\"\n",
    "save_table(project_id, yh_ds, table_name, sql_query)"
   ]
  },
  {
   "cell_type": "code",
   "execution_count": null,
   "id": "c0cff443-9002-4f43-8460-8dae331ac871",
   "metadata": {},
   "outputs": [],
   "source": [
    "table_id = f\"{db}.{yh_ds}.{table_name}\"\n",
    "# Fetch the table schema\n",
    "table = client.get_table(table_id)\n",
    "\n",
    "# Get the list of column names\n",
    "column_names = [schema_field.name for schema_field in table.schema]\n",
    "\n",
    "# Print the column names\n",
    "print(column_names)"
   ]
  },
  {
   "cell_type": "code",
   "execution_count": null,
   "id": "81db0b56-6934-4e9a-8878-773a8b5597f6",
   "metadata": {},
   "outputs": [],
   "source": [
    "stanford_ds = \"stanfordmed_datalake\"\n",
    "yh_ds = \"YH_dementia\"\n",
    "sql_table = \"dementia_pat_comorbidity_before_op_07312024\"\n",
    "sql_query = f\"\"\" \n",
    "SELECT *,\n",
    "\"\"\"\n",
    "for c_index in range(len(c_list)):\n",
    "    c = c_list[c_index]\n",
    "    sql_query += get_string(c, comorbidity_df)\n",
    "    if c_index < len(c_list)-1:\n",
    "        sql_query += \"\"\",\\n\"\"\"\n",
    "    if c_index == len(c_list)-1:\n",
    "        sql_query += f\"\"\"\\nFROM {db}.{yh_ds}.{sql_table} AS diag;\"\"\"\n",
    "print (sql_query)"
   ]
  },
  {
   "cell_type": "code",
   "execution_count": null,
   "id": "b406d630-6c4e-4c1f-86c8-8e19490119db",
   "metadata": {},
   "outputs": [],
   "source": [
    "table_name = \"dementia_comorbidity_before_op_categories_07312024\"\n",
    "save_table(project_id, yh_ds, table_name, sql_query)"
   ]
  },
  {
   "cell_type": "code",
   "execution_count": null,
   "id": "8ddf5f6c-81bc-492e-a82e-4440dc89b61f",
   "metadata": {},
   "outputs": [],
   "source": [
    "table_id = f\"{db}.{yh_ds}.{table_name}\"\n",
    "# Fetch the table schema\n",
    "table = client.get_table(table_id)\n",
    "\n",
    "# Get the list of column names\n",
    "column_names = [schema_field.name for schema_field in table.schema]\n",
    "\n",
    "# Print the column names\n",
    "print(column_names)"
   ]
  },
  {
   "cell_type": "code",
   "execution_count": null,
   "id": "019c16db-4756-4f15-b776-fd118a9d9213",
   "metadata": {},
   "outputs": [],
   "source": [
    "grouping_columns = [\"pat_deid\", \"age_at_dementia\", \"sex\", \"ethnic_group\", \"death_date\", \"deceased\", \"race\", \"dementia_start_date\"]\n",
    "aggregate_max_columns = ['myocardial_infarction', 'congestive_heart_failure', 'peripheral_vascular_disease', 'cerebrovascular_disease_', 'chronic_pulmonary_disease', 'rheumatologic_disease', 'peptic_ulcer', 'hemiplegia_paraplegia', 'diabetes_without_complications', 'diabetes_with_chronic_complications_', 'mild_liver_diseases', 'moderate_severe_liver_disease', 'renal_disease', 'any_malignancy__tumor__leukemia__lymphoma_', 'metastatic_solid_tumor', 'HIV_AIDS', 'cognitive_decline', 'hypertension', 'hyperlipidemia', 'excessive_alcohol', 'atherosclerosis', 'hypercholesterolemia', 'atrial_fibrillation', 'traumatic_brain_injury', 'hearing_loss', 'sleep_apnea', 'prediabetes', 'delirium', 'depression', 'schizophrenia_non_mood_psychotic_disorder', 'mood_disorder', 'anxiety_and_non_psychotic_mental_disorder', 'behavioral_syndromes_associated_with_physiological_disturbances_and_physical_factors', 'disorders_of_adult_personality_and_behavior', 'Intellecutual_disability', 'developmental_disorder', 'behavioral_and_emotional_isorder_with_onset_in_early_ages']"
   ]
  },
  {
   "cell_type": "code",
   "execution_count": null,
   "id": "743cde1a-edd1-4e6e-bf21-92eb943f615f",
   "metadata": {},
   "outputs": [],
   "source": [
    "sql = \"\"\"\n",
    "SELECT\"\"\"\n",
    "for gc in grouping_columns: \n",
    "    sql+=f\"\\n     {gc},\"\n",
    "for mc_index in range(len(aggregate_max_columns)):\n",
    "    mc = aggregate_max_columns[mc_index]\n",
    "    if mc_index < len(aggregate_max_columns)-1:\n",
    "        sql+=f\"\\n     MAX({mc}) AS {mc},\"\n",
    "    if mc_index == len(aggregate_max_columns)-1:\n",
    "        sql+=f\"\\n     MAX({mc}) AS {mc}\"\n",
    "sql+=f\"\\nFROM\\n     {table_id}\"\n",
    "sql+=\"\\nGROUP BY\"\n",
    "for gc_index in range(len(grouping_columns)): \n",
    "    gc = grouping_columns[gc_index]\n",
    "    if gc_index < len(grouping_columns)-1:\n",
    "        sql+=f\"\\n     {gc},\"\n",
    "    if gc_index == len(grouping_columns)-1:\n",
    "        sql+=f\"\\n     {gc};\"\n",
    "print (sql)"
   ]
  },
  {
   "cell_type": "code",
   "execution_count": null,
   "id": "e1668bc1-69a0-4376-aeb0-172272fbe504",
   "metadata": {},
   "outputs": [],
   "source": [
    "table_name = \"dementia_comorbidity_categories_aggregated_07312024\"\n",
    "save_table(project_id, yh_ds, table_name, sql)"
   ]
  },
  {
   "cell_type": "code",
   "execution_count": null,
   "id": "582cd898-baae-4928-97e5-6d5e906223ef",
   "metadata": {},
   "outputs": [],
   "source": [
    "sql = \"\"\"\n",
    "SELECT\"\"\"\n",
    "for gc in grouping_columns: \n",
    "    sql+=f\"\\n     {gc},\"\n",
    "for mc_index in range(len(aggregate_max_columns)):\n",
    "    mc = aggregate_max_columns[mc_index]\n",
    "    if mc_index < len(aggregate_max_columns)-1:\n",
    "        sql+=f\"\\n     MAX({mc}) AS before_exposure_{mc},\"\n",
    "    if mc_index == len(aggregate_max_columns)-1:\n",
    "        sql+=f\"\\n     MAX({mc}) AS before_exposure_{mc}\"\n",
    "sql+=f\"\\nFROM\\n     {table_id}\"\n",
    "sql+=\"\\nGROUP BY\"\n",
    "for gc_index in range(len(grouping_columns)): \n",
    "    gc = grouping_columns[gc_index]\n",
    "    if gc_index < len(grouping_columns)-1:\n",
    "        sql+=f\"\\n     {gc},\"\n",
    "    if gc_index == len(grouping_columns)-1:\n",
    "        sql+=f\"\\n     {gc};\"\n",
    "print (sql)"
   ]
  },
  {
   "cell_type": "code",
   "execution_count": null,
   "id": "f4977f20-84c4-454a-a02e-ca1b5e7e68d2",
   "metadata": {},
   "outputs": [],
   "source": [
    "table_name = \"dementia_comorbidity_before_op_categories_aggregated_07312024\"\n",
    "save_table(project_id, yh_ds, table_name, sql)"
   ]
  },
  {
   "cell_type": "code",
   "execution_count": null,
   "id": "2af36403-df3a-4473-b20a-5a8c45707000",
   "metadata": {},
   "outputs": [],
   "source": []
  },
  {
   "cell_type": "code",
   "execution_count": null,
   "id": "9f03db2c-1654-414c-8798-aab98cb3a67c",
   "metadata": {},
   "outputs": [],
   "source": []
  },
  {
   "cell_type": "code",
   "execution_count": null,
   "id": "5d98f97e-c9fa-4e82-84f1-103167f66dc5",
   "metadata": {},
   "outputs": [],
   "source": []
  },
  {
   "cell_type": "code",
   "execution_count": null,
   "id": "86a07348-ef8d-4a53-bb55-0287b293a853",
   "metadata": {},
   "outputs": [],
   "source": []
  },
  {
   "cell_type": "code",
   "execution_count": null,
   "id": "8317a0d7-6bcd-4d25-9392-07478a9dd6bf",
   "metadata": {},
   "outputs": [],
   "source": []
  }
 ],
 "metadata": {
  "kernelspec": {
   "display_name": "Python 3 (ipykernel)",
   "language": "python",
   "name": "python3"
  },
  "language_info": {
   "codemirror_mode": {
    "name": "ipython",
    "version": 3
   },
   "file_extension": ".py",
   "mimetype": "text/x-python",
   "name": "python",
   "nbconvert_exporter": "python",
   "pygments_lexer": "ipython3",
   "version": "3.12.2"
  }
 },
 "nbformat": 4,
 "nbformat_minor": 5
}
