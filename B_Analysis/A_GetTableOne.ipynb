{
 "cells": [
  {
   "cell_type": "markdown",
   "id": "645f7e23-98de-45a0-97d8-1b55f62717a3",
   "metadata": {},
   "source": [
    "# Generate Table one \n",
    "1. Load packages or environment \n",
    "2. Load dataframe \n",
    "3. Clean features \n",
    "4. Generate table one "
   ]
  },
  {
   "cell_type": "markdown",
   "id": "74aebcd4-85b6-4b54-85ba-9f1315afe433",
   "metadata": {},
   "source": [
    "## 1. load packages or environment "
   ]
  },
  {
   "cell_type": "code",
   "execution_count": null,
   "id": "b1a4e5fe-14d5-4326-b995-466abb6ab395",
   "metadata": {},
   "outputs": [],
   "source": [
    "# Essential packages for data manipulation and visualization\n",
    "import numpy as np\n",
    "import pandas as pd\n",
    "import matplotlib.pyplot as plt\n",
    "import seaborn as sns\n",
    "\n",
    "# Statistical summaries\n",
    "from tableone import TableOne\n",
    "\n",
    "# For BigQuery interaction\n",
    "import pandas_gbq as pgbq\n",
    "from google.cloud import bigquery\n",
    "\n",
    "# For database connections\n",
    "from sqlalchemy import create_engine\n",
    "\n",
    "# Date and time utilities\n",
    "from datetime import datetime, timedelta\n",
    "\n",
    "# Set up inline plotting for Jupyter Notebook\n",
    "%matplotlib inline\n"
   ]
  },
  {
   "cell_type": "code",
   "execution_count": null,
   "id": "05e52257-ec32-4fd4-b529-e408d741d2dd",
   "metadata": {},
   "outputs": [],
   "source": [
    "# Define configurations for Big Query\n",
    "project_id = '' # Location of datalake\n",
    "client = bigquery.Client(project=project_id) # Set project to project_id\n",
    "os.environ['GOOGLE_APPLICATION_CREDENTIALS'] = ''\n",
    "os.environ['GCLOUD_PROJECT'] = \"som-nero-phi-boussard" # specify environment\n",
    "db = \"" # Define the database\n",
    "stanford_ds = \""\n",
    "yh_ds = \"""
   ]
  },
  {
   "cell_type": "code",
   "execution_count": null,
   "id": "438b3265-192b-4da8-aeb4-63ecd3eff438",
   "metadata": {},
   "outputs": [],
   "source": [
    "def save_table(project_id, yh_ds, new_table_name, query):\n",
    "    table_id = f\"{project_id}.{yh_ds}.{new_table_name}\"\n",
    "    job_config = bigquery.QueryJobConfig(destination=table_id)\n",
    "    job_config.write_disposition = \"WRITE_TRUNCATE\"\n",
    "    # Start the query, passing in the extra configuration.\n",
    "    query_job = client.query(query, job_config=job_config)  # Make an API request.\n",
    "    query_job.result()  # Wait for the job to complete.\n",
    "    print(\"Query results loaded to the table {}\".format(table_id))  \n",
    "def load_pgbq(project_id, yh_ds, table_name):\n",
    "    sql_query = f\"SELECT * FROM {project_id}.{yh_ds}.{table_name}\"\n",
    "    return_df = pgbq.read_gbq(sql_query, dialect=\"standard\")\n",
    "    print (f\"{project_id}.{yh_ds}.{table_name}\", \"is loaded\") \n",
    "    return return_df\n",
    "def upload_pgbq(project_id, yh_ds, table_name, df):\n",
    "    table_id = f\"{yh_ds}.{table_name}\"\n",
    "    pgbq.to_gbq(df, table_id, project_id=project_id)\n",
    "    print (\"dataframe\", df, \"is uploaded as\", f\"{project_id}.{yh_ds}.{table_name}\") \n",
    "def remove_table(project_id, yh_ds, table_name):\n",
    "    client = bigquery.Client()\n",
    "    table_id = f\"{project_id}.{yh_ds}.{table_name}\"\n",
    "    client.delete_table(table_id, not_found_ok=True)  # Make an API request.\n",
    "    print(\"Deleted table '{}'.\".format(table_id))"
   ]
  },
  {
   "cell_type": "markdown",
   "id": "c63d4ac2-928c-4448-8eab-9d9cf074fd8e",
   "metadata": {},
   "source": [
    "## 2. load dataframe "
   ]
  },
  {
   "cell_type": "code",
   "execution_count": null,
   "id": "9bc31c85-0d5a-4085-91d1-c3142b89ca4a",
   "metadata": {},
   "outputs": [],
   "source": [
    "cohort_df = pd.read_csv(\"../A_Cohort/final_cohort_07312024.csv\", low_memory = False)\n",
    "cohort_df.exposure_group.value_counts()"
   ]
  },
  {
   "cell_type": "code",
   "execution_count": null,
   "id": "cc480a65-e5ab-4956-b947-b1631de7f289",
   "metadata": {},
   "outputs": [],
   "source": [
    "exposure_group_dict = {'control' : 'unexposed',\n",
    "                       'discontinued': 'unexposed',\n",
    "                       'new user': 'exposed',\n",
    "                       'consistent user': 'exposed'}\n",
    "cohort_df['larger_exposure_group'] = cohort_df['exposure_group'].map(exposure_group_dict)"
   ]
  },
  {
   "cell_type": "code",
   "execution_count": null,
   "id": "bd0a51c6-32df-495a-946b-db075c15d5e7",
   "metadata": {},
   "outputs": [],
   "source": [
    "cohort_df.columns"
   ]
  },
  {
   "cell_type": "code",
   "execution_count": null,
   "id": "2a12c1a5-90db-439d-b058-5d86af10d161",
   "metadata": {},
   "outputs": [],
   "source": [
    "race_category_dict = {\n",
    "    'White': 'White',\n",
    "    'Asian': 'Asian',\n",
    "    'Other': 'Other',\n",
    "    'Black': 'Black',\n",
    "    'Hawaiian or Pacific Islander': 'Native American/Hawaiian/Pacific Islander',\n",
    "    'Unknown' : 'Unknown/Refused',\n",
    "    'Ethnic group not given - patient refused' : 'Unknown/Refused'\n",
    "}\n",
    "\n",
    "ethnic_category_dict = {\n",
    "    'Non-Hispanic/Non-Latino': 'Non-Hispanic/Non-Latino',\n",
    "    'Hispanic/Latino': 'Hispanic/Latino',\n",
    "    'Declines to State': 'Unknown/Refused',\n",
    "    'Unknown':'Unknown/Refused'\n",
    "}\n",
    "\n",
    "insurance_category_dict = {\n",
    "    'Medicare_Medicaid': 'Medicare/Medicaid',\n",
    "    'Private': 'Private',\n",
    "    'Other': 'Other',\n",
    "    'Missing': None\n",
    "}\n",
    "\n",
    "sex_category_dict = {\n",
    "    'Female': 'Female',\n",
    "    'Male': 'Male',\n",
    "    'Other': None\n",
    "}"
   ]
  },
  {
   "cell_type": "code",
   "execution_count": null,
   "id": "3398fc6b-42c8-40b0-a7e4-c15e5adab2b4",
   "metadata": {},
   "outputs": [],
   "source": [
    "# feature engineering \n",
    "# age groups \n",
    "\n",
    "# Feature engineering functions\n",
    "\n",
    "# Categorize patients into age groups\n",
    "def categorize_age(age):\n",
    "    \"\"\"\n",
    "    Categorizes a given age into predefined age groups.\n",
    "    Returns a string label for the group or None if age is outside defined ranges.\n",
    "    \"\"\"\n",
    "    age_groups = [\n",
    "        (50, 60, '50-59'),\n",
    "        (60, 70, '60-69'),\n",
    "        (70, 80, '70-79'),\n",
    "        (80, 90, '80-89'),\n",
    "        (90, 101, '90-100')\n",
    "    ]\n",
    "    for lower, upper, label in age_groups:\n",
    "        if lower <= age < upper:\n",
    "            return label\n",
    "    return None  # Age outside the defined ranges\n",
    "\n",
    "# Remove invalid BMI values\n",
    "def remove_invalid_bmi(bmi):\n",
    "    \"\"\"\n",
    "    Filters out invalid BMI values.\n",
    "    Returns None for BMIs outside a reasonable range (15 to 150).\n",
    "    \"\"\"\n",
    "    if bmi > 150 or bmi < 15:\n",
    "        return None\n",
    "    return bmi\n",
    "\n",
    "# Prepare a DataFrame for TableOne with feature engineering\n",
    "def prepare_tableone(df):\n",
    "    \"\"\"\n",
    "    Applies feature engineering to the input DataFrame for TableOne analysis.\n",
    "    Includes age group categorization, BMI filtering and categorization, \n",
    "    and remapping demographic variables.\n",
    "    \"\"\"\n",
    "    df2 = df.copy()\n",
    "\n",
    "    # Categorize age into predefined groups\n",
    "    df2['age_group'] = df2['age_at_diagnosis'].apply(categorize_age)\n",
    "\n",
    "    # Clean and categorize BMI values\n",
    "    df2['last_bmi_before_exposure'] = pd.to_numeric(df2['last_bmi_before_exposure'], errors='coerce')  # Convert BMI to numeric\n",
    "    df2['last_bmi_before_exposure'] = df2['last_bmi_before_exposure'].apply(remove_invalid_bmi)\n",
    "    bins = [0, 18.5, 24.9, 29.9, 34.9, 40]  # BMI category edges\n",
    "    labels = ['Underweight', 'Normal weight', 'Overweight', 'Obese', 'Severely obese']\n",
    "    df2['bmi_category'] = pd.cut(df2['last_bmi_before_exposure'], bins=bins, labels=labels, right=False)\n",
    "\n",
    "    # Add deceased indicator\n",
    "    df2['death'] = np.where(~df2['death_date'].isna(), 1, 0)  # 1 if 'death_date' exists, otherwise 0\n",
    "\n",
    "    # Remap categorical variables using predefined dictionaries\n",
    "    df2['race_group'] = df2['race'].map(race_category_dict)  # Map race to race categories\n",
    "    df2['ethnicity_group'] = df2['ethnic_group'].map(ethnic_category_dict)  # Map ethnicity\n",
    "    df2['insurance_group'] = df2['mapped_insurance_type'].map(insurance_category_dict)  # Map insurance types\n",
    "    df2['sex_group'] = df2['sex'].map(sex_category_dict)  # Map sex to group categories\n",
    "\n",
    "    return df2\n",
    "cohort_df2 = prepare_tableone(cohort_df)"
   ]
  },
  {
   "cell_type": "code",
   "execution_count": null,
   "id": "6af0a4ca-14e5-4efa-8c85-7d225b595f56",
   "metadata": {},
   "outputs": [],
   "source": [
    "def replace_na_with_none(value):\n",
    "    if pd.isna(value) and value is pd.NA:\n",
    "        return None\n",
    "    return value\n",
    "\n",
    "# Apply the function to the entire DataFrame\n",
    "cohort_df2 = cohort_df2.applymap(replace_na_with_none)"
   ]
  },
  {
   "cell_type": "code",
   "execution_count": null,
   "id": "7d7e7a63-69be-40d1-80f7-94c8348de7e4",
   "metadata": {},
   "outputs": [],
   "source": [
    "exposed_df = cohort_df2[cohort_df2.larger_exposure_group == 'exposed']\n",
    "unexposed_df = cohort_df2[cohort_df2.larger_exposure_group == 'unexposed']"
   ]
  },
  {
   "cell_type": "code",
   "execution_count": null,
   "id": "e82713c6-4213-434d-b2f0-7b902565aa75",
   "metadata": {},
   "outputs": [],
   "source": [
    "# Create binary indicators for death within specific timeframes after opioid exposure\n",
    "# - 14 days\n",
    "# - 60 days\n",
    "# - 180 days\n",
    "\n",
    "# Indicator for death within 14 days of exposure\n",
    "exposed_df['death_within_14days_exposure'] = np.where(\n",
    "    exposed_df['post_onset_post_opioid_death_days'] <= 14, 1, 0\n",
    ")\n",
    "\n",
    "# Indicator for death within 60 days of exposure\n",
    "exposed_df['death_within_60days_exposure'] = np.where(\n",
    "    exposed_df['post_onset_post_opioid_death_days'] <= 60, 1, 0\n",
    ")\n",
    "\n",
    "# Indicator for death within 180 days of exposure\n",
    "exposed_df['death_within_180days_exposure'] = np.where(\n",
    "    exposed_df['post_onset_post_opioid_death_days'] <= 180, 1, 0\n",
    ")\n"
   ]
  },
  {
   "cell_type": "code",
   "execution_count": null,
   "id": "71cddea0-0cf0-4c2a-bafc-8c288cca8f11",
   "metadata": {},
   "outputs": [],
   "source": [
    "medication_table_name = 'dementia_medication_categories'\n",
    "medication_table_id = f\"{db}.{yh_ds}.{medication_table_name}\"\n",
    "medication_table = client.get_table(medication_table_id)\n",
    "\n",
    "comorbidity_table_name = 'dementia_comorbidity_categories_aggregated'\n",
    "comorbidity_table_id = f\"{db}.{yh_ds}.{comorbidity_table_name}\"\n",
    "comorbidity_table = client.get_table(comorbidity_table_id)\n",
    "\n",
    "comorbidity_before_exposure_table_name = 'dementia_comorbidity_categories_before_exposure_aggregated'\n",
    "comorbidity_before_exposure_table_id = f\"{db}.{yh_ds}.{comorbidity_before_exposure_table_name}\"\n",
    "comorbidity_before_exposure_table = client.get_table(comorbidity_before_exposure_table_id)\n",
    "\n",
    "# Get the list of column names\n",
    "comorbidity_column_names = [schema_field.name for schema_field in comorbidity_table.schema]\n",
    "comorbidity_before_exposure_table_column_names = [schema_field.name for schema_field in comorbidity_before_exposure_table.schema]\n",
    "medication_column_names = [schema_field.name for schema_field in medication_table.schema]"
   ]
  },
  {
   "cell_type": "markdown",
   "id": "a5b4526d-2918-443c-8432-6de415425975",
   "metadata": {},
   "source": [
    "\n",
    "## Table one - basic characteristics between new users and consistent users "
   ]
  },
  {
   "cell_type": "code",
   "execution_count": null,
   "id": "98875345-179b-40eb-8efc-ddb1f5a30025",
   "metadata": {},
   "outputs": [],
   "source": [
    "# basic columns \n",
    "exposure_basic_columns = ['MCI', 'AD', 'VD', 'LBD', 'other_D', 'sex_group', 'age_at_diagnosis', 'age_group', 'race_group', 'ethnicity_group', 'insurance_group', 'last_bmi_before_exposure', 'bmi_category', 'death', 'post_onset_post_opioid_death_days', 'death_within_14days_exposure', 'death_within_60days_exposure', 'death_within_180days_exposure']"
   ]
  },
  {
   "cell_type": "code",
   "execution_count": null,
   "id": "f13e97f2-8401-4234-b11c-76a74ac9e843",
   "metadata": {},
   "outputs": [],
   "source": [
    "from tableone import TableOne\n",
    "#basic descriptive statistics between new user and consistent user \n",
    "\n",
    "\n",
    "exposure_binary_columns = ['MCI', 'AD', 'VD', 'LBD', 'other_D', 'death', 'death_within_14days_exposure', 'death_within_60days_exposure', 'death_within_180days_exposure']\n",
    "\n",
    "# Step 1: Ensure binary columns with counts less than 20 are removed\n",
    "for col in exposure_binary_columns:\n",
    "    value_counts = exposed_df[col].value_counts()\n",
    "    to_remove = value_counts[value_counts < 20].index  # Find values with count < 20\n",
    "    exposed_df = exposed_df[~exposed_df[col].isin(to_remove)]  # Drop rows where these values exist\n",
    "\n",
    "# Step 2: Define the limit for binary columns to only include the category '1'\n",
    "limit = {col: [1] for col in exposure_binary_columns}  # Exclude `0` by only showing rows where columns equal `1`\n",
    "\n",
    "# Step 3: Define the columns, categorical variables, and other parameters\n",
    "columns = exposure_basic_columns + ['exposure_group']\n",
    "\n",
    "# Ensure that all columns in the categorical list are actual categorical variables\n",
    "categorical = ['MCI', 'AD', 'VD', 'LBD', 'other_D', 'sex_group',  'age_group', 'race_group', 'ethnicity_group', 'insurance_group','bmi_category', 'death', 'death_within_14days_exposure', 'death_within_60days_exposure', 'death_within_180days_exposure']\n",
    "\n",
    "# Non-normal variables (continuous)\n",
    "nonnormal = ['age_at_diagnosis', 'last_bmi_before_exposure', 'post_onset']\n",
    "\n",
    "# Check the order of categorical variables; ensure the values exist in the data\n",
    "order = {\n",
    "    \"sex_group\": [\"Female\", \"Male\"],\n",
    "    \"age_group\": [\"50-59\", \"60-69\", \"70-79\", \"80-89\", \"90-100\"], \n",
    "    'race_group': ['White', 'Asian', 'Black', 'Native American/Hawaiian/Pacific Islander', 'Unknown/Refused'],\n",
    "    'ethnicity_group': ['Hispanic/Latino', 'Non-Hispanic/Non-Latino', 'Unknown/Refused'], \n",
    "    'insurance_group': ['Medicare/Medicaid', 'Private', 'Other']\n",
    "}\n",
    "\n",
    "# Ensure the groupby variable is categorical and exists in the DataFrame\n",
    "groupby = ['exposure_group']\n",
    "\n",
    "# Step 4: Generate TableOne\n",
    "try:\n",
    "    table2 = TableOne(exposed_df, columns=columns, categorical=categorical, groupby=groupby,\n",
    "                      nonnormal=nonnormal, order=order, pval=True, dip_test=True, normal_test=True, tukey_test=True)\n",
    "    \n",
    "except ValueError as e:\n",
    "    print(f\"Error: {e}\")\n",
    "\n",
    "table2"
   ]
  },
  {
   "cell_type": "code",
   "execution_count": null,
   "id": "0d7627e1-a306-4c50-b488-62a4d8a58ea8",
   "metadata": {},
   "outputs": [],
   "source": [
    "# fn1 = '../../tables/tableone07312024.xlsx'\n",
    "# table2.to_excel(fn1)"
   ]
  },
  {
   "cell_type": "markdown",
   "id": "d7a95c7e-76d1-4552-97c9-1f43ae1c86ff",
   "metadata": {},
   "source": [
    "## descriptive statistics on comorbidities and medications "
   ]
  },
  {
   "cell_type": "code",
   "execution_count": null,
   "id": "813d1167-ef5f-4865-b77e-5d82969dc3a8",
   "metadata": {},
   "outputs": [],
   "source": [
    "comorbidity = [i for i in comorbidity_before_exposure_table_column_names if i.startswith('before_exposure')]\n",
    "medication = [i for i in medication_column_names if i.startswith('exposure_within_1_year_before')]\n",
    "health_set = comorbidity+medication"
   ]
  },
  {
   "cell_type": "code",
   "execution_count": null,
   "id": "1368c39d-62b7-4f54-8a2c-05409737cd1c",
   "metadata": {},
   "outputs": [],
   "source": [
    "from tableone import TableOne\n",
    "#basic descriptive statistics between new user and consistent user \n",
    "\n",
    "\n",
    "binary_columns = health_set\n",
    "\n",
    "# Step 1: Ensure binary columns with counts less than 20 are removed\n",
    "for col in binary_columns:\n",
    "    value_counts = exposed_df[col].value_counts()\n",
    "    to_remove = value_counts[value_counts < 20].index  # Find values with count < 20\n",
    "    exposed_df = exposed_df[~exposed_df[col].isin(to_remove)]  # Drop rows where these values exist\n",
    "\n",
    "\n",
    "\n",
    "# Step 3: Define the columns, categorical variables, and other parameters\n",
    "columns = health_set+ ['exposure_group']\n",
    "\n",
    "# Ensure that all columns in the categorical list are actual categorical variables\n",
    "categorical = health_set\n",
    "\n",
    "# Non-normal variables (continuous)\n",
    "\n",
    "# Ensure the groupby variable is categorical and exists in the DataFrame\n",
    "groupby = ['exposure_group']\n",
    "\n",
    "# Step 4: Generate TableOne\n",
    "try:\n",
    "    table2 = TableOne(exposed_df, columns=columns, categorical=categorical, groupby=groupby,order=order, pval=True, dip_test=True, normal_test=True, tukey_test=True)\n",
    "    \n",
    "except ValueError as e:\n",
    "    print(f\"Error: {e}\")\n",
    "\n",
    "table2"
   ]
  },
  {
   "cell_type": "code",
   "execution_count": null,
   "id": "9bb54064-ca99-4eb3-93a4-55a3a0297d16",
   "metadata": {},
   "outputs": [],
   "source": [
    "# fn2 = '../../tables/health_tableone07312024.xlsx'\n",
    "# table2.to_excel(fn2)"
   ]
  },
  {
   "cell_type": "markdown",
   "id": "be7c6bda-5803-4fbe-96ff-91eac26c6f82",
   "metadata": {},
   "source": [
    "## descriptive statistics between exposed and unexposed "
   ]
  },
  {
   "cell_type": "code",
   "execution_count": null,
   "id": "40e7709e-504a-4bc0-8659-b99668dcc966",
   "metadata": {},
   "outputs": [],
   "source": [
    "for i in cohort_df2.columns: \n",
    "    print (i)"
   ]
  },
  {
   "cell_type": "code",
   "execution_count": null,
   "id": "9b215844-8b22-45ab-aa5a-9399322fa8fd",
   "metadata": {},
   "outputs": [],
   "source": [
    "basic_columns = [\"MCI\", \"AD\", \"FTD\", \"VD\", \"LBD\", \"other_D\",\n",
    "                 \"sex_group\", \"age_at_diagnosis\", \"age_group\", \"race_group\", \"ethnicity_group\", \"death\", \"death_from_diagnosis\"]\n",
    "comorbidity = list(set([i for i in comorbidity_column_names if i is not i.startswith('before_exposure')])-set(['pat_deid',\n",
    " 'age_at_dementia',\n",
    " 'sex',\n",
    " 'ethnic_group',\n",
    " 'death_date',\n",
    " 'deceased',\n",
    " 'race',\n",
    " 'dementia_start_date']))\n",
    "medication = list(set([i for i in medication_column_names if i.startswith('exposure_within_1_year')])-set(['pat_deid',\n",
    " 'age_at_dementia',\n",
    " 'sex',\n",
    " 'ethnic_group',\n",
    " 'death_date',\n",
    " 'deceased',\n",
    " 'race',\n",
    " 'dementia_start_date']))\n",
    "health_set = sorted(comorbidity)+sorted(medication)"
   ]
  },
  {
   "cell_type": "code",
   "execution_count": null,
   "id": "087dce9d-3a45-4016-aaf0-db174456e8d4",
   "metadata": {},
   "outputs": [],
   "source": [
    "import pandas as pd\n",
    "from tableone import TableOne\n",
    "\n",
    "\n",
    "columns = ['larger_exposure_group', 'exposure_group'] + basic_columns + health_set \n",
    "\n",
    "# Step 2: Ensure all categorical columns are of 'category' type\n",
    "categorical = ['exposure_group', 'MCI', 'AD', 'VD', 'LBD', 'other_D', 'death', 'sex_group', 'age_group', 'race_group', 'ethnicity_group']+health_set\n",
    "# Step 3: Ensure non-normal columns are numeric\n",
    "nonnormal = ['age_at_diagnosis', \"death_from_diagnosis\"]\n",
    "# Step 4: Define the columns, order, and groupby settings\n",
    "order = {\n",
    "    \"age_group\": [\"50-59\", \"60-69\", \"70-79\", \"80-89\", \"90-100\"], \n",
    "    'race_group': ['White', 'Asian', 'Black', 'Native American/Hawaiian/Pacific Islander', 'Unknown/Refused'],\n",
    "    'ethnic_group': ['Hispanic/Latino', 'Non-Hispanic/Non-Latino', 'Unknown/Refused']\n",
    "}\n",
    "groupby = ['larger_exposure_group']  # Ensure this column exists and is categorical\n",
    "\n",
    "# Step 5: Generate TableOne\n",
    "try:\n",
    "    table2 = TableOne(\n",
    "        cohort_df2,\n",
    "        columns=columns,\n",
    "        categorical=categorical,\n",
    "        groupby=groupby,\n",
    "        nonnormal=nonnormal,\n",
    "        order=order,\n",
    "        pval=True\n",
    "    )\n",
    "    table2\n",
    "except ValueError as e:\n",
    "    print(f\"Error creating TableOne: {e}\")\n"
   ]
  },
  {
   "cell_type": "code",
   "execution_count": null,
   "id": "d4497330-5b6d-40e8-bd59-a8b364e46107",
   "metadata": {},
   "outputs": [],
   "source": [
    "# fn3 = '../../tables/descriptive_stat_overall.xlsx'\n",
    "# table2.to_excel(fn3)"
   ]
  }
 ],
 "metadata": {
  "kernelspec": {
   "display_name": "Python 3 (ipykernel)",
   "language": "python",
   "name": "python3"
  },
  "language_info": {
   "codemirror_mode": {
    "name": "ipython",
    "version": 3
   },
   "file_extension": ".py",
   "mimetype": "text/x-python",
   "name": "python",
   "nbconvert_exporter": "python",
   "pygments_lexer": "ipython3",
   "version": "3.12.2"
  }
 },
 "nbformat": 4,
 "nbformat_minor": 5
}
