{
 "cells": [
  {
   "cell_type": "code",
   "execution_count": null,
   "id": "cc5a1897",
   "metadata": {},
   "outputs": [],
   "source": [
    "# Essential libraries for data manipulation and processing\n",
    "import pandas as pd  # For data manipulation and analysis\n",
    "import numpy as np  # For numerical operations and computations\n",
    "\n",
    "# Utility libraries for progress tracking and time management\n",
    "from tqdm import tqdm  # For progress bars during iterations\n",
    "import time  # For time-related functions\n"
   ]
  },
  {
   "cell_type": "code",
   "execution_count": null,
   "id": "e3a36b03-8d3d-4ab8-8916-7636e83fcca3",
   "metadata": {},
   "outputs": [],
   "source": [
    "prompt = f\"\"\"\n",
    "Please review the patient's medical chart as a clinician. Analyze the medical notes provided and identify the primary cause of death. If multiple causes are present, list up to three in order of relevance, separated by commas without spaces.\n",
    "-    \tUse standardized medical diagnoses, avoiding terms that describe states or events (e.g., avoid 'asystole').\n",
    "-    \tWhen appropriate, generalize specific conditions to broader diagnoses (e.g., use 'sepsis' rather than 'severe sepsis').\n",
    "-    \tKeep diagnoses simple and consistent across all answers.\n",
    "-    \tIf the cause of death cannot be determined, return 'NA'.\n",
    "-    \tProvide only the list of causes without any additional explanation.\n",
    "Medical Notes: {note}\n",
    "\"\"\""
   ]
  },
  {
   "cell_type": "code",
   "execution_count": null,
   "id": "38080acd",
   "metadata": {},
   "outputs": [],
   "source": [
    "import os\n",
    "from openai import AzureOpenAI\n",
    "\n",
    "client = AzureOpenAI(\n",
    "  azure_endpoint = \"\",\n",
    "  api_key=\"\",  \n",
    "  api_version=\"\"\n",
    ")\n"
   ]
  },
  {
   "cell_type": "code",
   "execution_count": null,
   "id": "1f603724",
   "metadata": {},
   "outputs": [],
   "source": [
    "#df = pd.read_csv('../data/early_death_notes.csv') "
   ]
  },
  {
   "cell_type": "code",
   "execution_count": null,
   "id": "58bb36c6-35a3-4be0-8f2d-94119e60b45d",
   "metadata": {},
   "outputs": [],
   "source": [
    "# Enable tqdm progress bars for Pandas apply operations\n",
    "tqdm.pandas()\n",
    "\n",
    "# Function to extract causes of death from a note using GPT model\n",
    "def extract_causes_of_death(note):\n",
    "    \"\"\"\n",
    "    Extracts up to three causes of death from a given medical note.\n",
    "    \n",
    "    Parameters:\n",
    "        note (str): The medical note to process.\n",
    "    \n",
    "    Returns:\n",
    "        list: A list of up to three causes of death, padded with None if fewer than three are found.\n",
    "    \"\"\"\n",
    "    retries = 0\n",
    "    max_retries = 5  # Maximum number of retries for rate-limited requests\n",
    "    wait_time = 5  # Initial wait time between retries\n",
    "    prompt = f\"Extract up to three causes of death from the following note: {note}\"\n",
    "\n",
    "    while retries < max_retries:\n",
    "        try:\n",
    "            # Call the GPT model\n",
    "            response = client.chat.completions.create(\n",
    "                model=\"gpt-3.5-turbo\",\n",
    "                messages=[{\"role\": \"user\", \"content\": prompt}]\n",
    "            )\n",
    "            \n",
    "            # Extract the assistant's reply and split into causes\n",
    "            if response and response.choices[0].message.content:\n",
    "                assistant_reply = response.choices[0].message.content.strip()\n",
    "                causes = assistant_reply.split(',')\n",
    "                # Return the causes, padding with None if fewer than three are found\n",
    "                return causes if len(causes) == 3 else causes + [None] * (3 - len(causes))\n",
    "        \n",
    "        except Exception as e:\n",
    "            # Handle rate-limiting errors\n",
    "            if \"429\" in str(e):\n",
    "                retries += 1\n",
    "                print(f\"Rate limit hit. Waiting {wait_time} seconds before retrying... (Attempt {retries}/{max_retries})\")\n",
    "                time.sleep(wait_time)\n",
    "                wait_time *= 2  # Exponential backoff for retries\n",
    "            else:\n",
    "                # Handle other exceptions\n",
    "                print(f\"Error processing note: {e}\")\n",
    "                return [None, None, None]\n",
    "    \n",
    "    # Return placeholder if all retries fail\n",
    "    print(f\"Failed to process note after {max_retries} retries.\")\n",
    "    return [None, None, None]"
   ]
  },
  {
   "cell_type": "code",
   "execution_count": null,
   "id": "6542cb8c-6d83-45a1-bd20-738252c575a3",
   "metadata": {},
   "outputs": [],
   "source": [
    "# Apply the function to the 'note' column and create new columns for each cause of death\n",
    "df[['Cause1', 'Cause2', 'Cause3']] = df['note'].progress_apply(\n",
    "    lambda x: pd.Series(extract_causes_of_death(x))\n",
    ")\n",
    "\n",
    "# Add a delay to avoid overwhelming the API\n",
    "time.sleep(1)  # 1-second delay between API calls\n"
   ]
  },
  {
   "cell_type": "code",
   "execution_count": null,
   "id": "f3b4fcd8-9fd0-4f19-b730-d0d7ab77b23a",
   "metadata": {},
   "outputs": [],
   "source": [
    "#df.to_csv('medical_data_with_causes.csv', index=False)"
   ]
  },
  {
   "cell_type": "code",
   "execution_count": null,
   "id": "e898c50b-fbb0-47e7-84ff-22a3b3de044b",
   "metadata": {},
   "outputs": [],
   "source": []
  }
 ],
 "metadata": {
  "kernelspec": {
   "display_name": "Python 3 (ipykernel)",
   "language": "python",
   "name": "python3"
  },
  "language_info": {
   "codemirror_mode": {
    "name": "ipython",
    "version": 3
   },
   "file_extension": ".py",
   "mimetype": "text/x-python",
   "name": "python",
   "nbconvert_exporter": "python",
   "pygments_lexer": "ipython3",
   "version": "3.12.2"
  }
 },
 "nbformat": 4,
 "nbformat_minor": 5
}
